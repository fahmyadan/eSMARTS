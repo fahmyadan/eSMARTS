{
 "cells": [
  {
   "cell_type": "code",
   "execution_count": 16,
   "metadata": {},
   "outputs": [],
   "source": [
    "import sys\n",
    "import os \n",
    "import json\n",
    "from pathlib import Path\n",
    "# sacred_root = Path(__file__).absolute().parents[1]\n",
    "sacred_root = str(Path.cwd().parents[1]) + '/results/sacred/qmix/hiwayenv-v0/'\n"
   ]
  },
  {
   "cell_type": "code",
   "execution_count": 17,
   "metadata": {},
   "outputs": [],
   "source": [
    "info_path = sacred_root + '/1/info.json'\n",
    "with open(info_path, 'r') as f:\n",
    "    data = json.load(f)"
   ]
  },
  {
   "cell_type": "code",
   "execution_count": 18,
   "metadata": {},
   "outputs": [
    {
     "data": {
      "text/plain": [
       "{'agents_complete_mean': [{'dtype': 'float64',\n",
       "   'py/object': 'numpy.float64',\n",
       "   'value': 0.0}],\n",
       " 'agents_complete_mean_T': [142],\n",
       " 'avg_delay_mean': [{'dtype': 'float64',\n",
       "   'py/object': 'numpy.float64',\n",
       "   'value': 906.0}],\n",
       " 'avg_delay_mean_T': [142],\n",
       " 'avg_edge_delay_mean': [{'dtype': 'float64',\n",
       "   'py/object': 'numpy.float64',\n",
       "   'value': 863.6}],\n",
       " 'avg_edge_delay_mean_T': [142],\n",
       " 'avg_flow_mean': [{'dtype': 'float64',\n",
       "   'py/object': 'numpy.float64',\n",
       "   'value': 171.05633802816902}],\n",
       " 'avg_flow_mean_T': [142],\n",
       " 'avg_queue_length_mean': [{'dtype': 'float64',\n",
       "   'py/object': 'numpy.float64',\n",
       "   'value': 17.1056338028169}],\n",
       " 'avg_queue_length_mean_T': [142],\n",
       " 'avg_speed_mean': [{'dtype': 'float64',\n",
       "   'py/object': 'numpy.float64',\n",
       "   'value': 8.98629268251013}],\n",
       " 'avg_speed_mean_T': [142],\n",
       " 'ep_length_mean': [142.0],\n",
       " 'ep_length_mean_T': [142],\n",
       " 'epsilon': [1.0],\n",
       " 'epsilon_T': [142],\n",
       " 'n_collisions_mean': [{'dtype': 'float64',\n",
       "   'py/object': 'numpy.float64',\n",
       "   'value': 4.0}],\n",
       " 'n_collisions_mean_T': [142],\n",
       " 'return_mean': [{'dtype': 'float64',\n",
       "   'py/object': 'numpy.float64',\n",
       "   'value': -345.0426954767163}],\n",
       " 'return_mean_T': [142],\n",
       " 'return_std': [{'dtype': 'float64',\n",
       "   'py/object': 'numpy.float64',\n",
       "   'value': 0.0}],\n",
       " 'return_std_T': [142],\n",
       " 'total_edge_tt_mean': [{'dtype': 'float64',\n",
       "   'py/object': 'numpy.float64',\n",
       "   'value': 1439.4141645090954}],\n",
       " 'total_edge_tt_mean_T': [142],\n",
       " 'total_stops_mean': [{'dtype': 'float64',\n",
       "   'py/object': 'numpy.float64',\n",
       "   'value': 231.0}],\n",
       " 'total_stops_mean_T': [142]}"
      ]
     },
     "execution_count": 18,
     "metadata": {},
     "output_type": "execute_result"
    }
   ],
   "source": [
    "data\n"
   ]
  },
  {
   "cell_type": "code",
   "execution_count": 19,
   "metadata": {},
   "outputs": [
    {
     "data": {
      "text/plain": [
       "26"
      ]
     },
     "execution_count": 19,
     "metadata": {},
     "output_type": "execute_result"
    }
   ],
   "source": [
    "len(data\n",
    ")"
   ]
  },
  {
   "cell_type": "code",
   "execution_count": null,
   "metadata": {},
   "outputs": [],
   "source": []
  }
 ],
 "metadata": {
  "kernelspec": {
   "display_name": ".esmarts",
   "language": "python",
   "name": "python3"
  },
  "language_info": {
   "codemirror_mode": {
    "name": "ipython",
    "version": 3
   },
   "file_extension": ".py",
   "mimetype": "text/x-python",
   "name": "python",
   "nbconvert_exporter": "python",
   "pygments_lexer": "ipython3",
   "version": "3.9.13"
  },
  "orig_nbformat": 4
 },
 "nbformat": 4,
 "nbformat_minor": 2
}
